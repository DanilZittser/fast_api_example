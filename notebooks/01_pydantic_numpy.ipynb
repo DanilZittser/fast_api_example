{
 "cells": [
  {
   "cell_type": "markdown",
   "id": "7744b5ca-1e43-4c0d-b2e2-d4624cecdb51",
   "metadata": {},
   "source": [
    "### Информация\n",
    "- **Автор**: Зитцер Данил\n",
    "- **Дата создания**: 4 мая 2021 года, 11:34:13\n",
    "- **Краткое описание**: Скрипт распознавания фигур будет работать через RestAPI, соответственно изображения ему будут приходить в JSON формате. Есть два варианта как numpy.ndarray перегонять в JSON:\n",
    "    1. Воспользоваться Pydantic\n",
    "    2. Написать JSON Encoder для numpy\n",
    "- **Полезные ссылки**:\n",
    "    - [Pydantic models](https://pydantic-docs.helpmanual.io/usage/models/)\n",
    "    - [Support Generic Container Types #380](https://github.com/samuelcolvin/pydantic/issues/380)\n",
    "    - [Numpy JSON Encoder](https://stackoverflow.com/questions/26646362/numpy-array-is-not-json-serializable)\n",
    "- **Выводы**: При использовании Pydantic, получается cлишком много кода. Ведь всё, что изначально надо было сделать - это np.array().tolist()"
   ]
  },
  {
   "cell_type": "code",
   "execution_count": null,
   "id": "b3453644-40e5-4196-b5cd-0dffaad3f99a",
   "metadata": {},
   "outputs": [],
   "source": [
    "import json\n",
    "import numpy as np\n",
    "import pydantic\n",
    "\n",
    "from nptyping import NDArray\n",
    "from pydantic import BaseModel, validator\n",
    "from typing import Any, Union, List"
   ]
  },
  {
   "cell_type": "markdown",
   "id": "b0fc472a-4785-4ee8-a881-07fa8af74804",
   "metadata": {},
   "source": [
    "### Pydantic model"
   ]
  },
  {
   "cell_type": "markdown",
   "id": "dd808c43-1d1d-4382-acd8-06ecfd344da3",
   "metadata": {},
   "source": [
    "#### First variant "
   ]
  },
  {
   "cell_type": "code",
   "execution_count": null,
   "id": "daafb255-6ffd-464f-99ae-43e651c4bafa",
   "metadata": {},
   "outputs": [],
   "source": [
    "class _ArrayMeta(type):\n",
    "    def __getitem__(self, t):\n",
    "        return type('Array', (Array,), {'__dtype__': t})\n",
    "\n",
    "\n",
    "class Array(np.ndarray, metaclass=_ArrayMeta):\n",
    "    @classmethod\n",
    "    def __get_validators__(cls):\n",
    "        yield cls.validate_type\n",
    "\n",
    "    @classmethod\n",
    "    def validate_type(cls, val):\n",
    "        dtype = getattr(cls, '__dtype__', None)\n",
    "        if isinstance(dtype, tuple):\n",
    "            dtype, shape = dtype\n",
    "        else:\n",
    "            shape = tuple()\n",
    "\n",
    "        result = np.array(val, dtype=dtype, copy=False, ndmin=len(shape))\n",
    "        assert not shape or len(shape) == len(result.shape)  # ndmin guarantees this\n",
    "\n",
    "        if any((shape[i] != -1 and shape[i] != result.shape[i]) for i in range(len(shape))):\n",
    "            result = result.reshape(shape)\n",
    "        return result"
   ]
  },
  {
   "cell_type": "markdown",
   "id": "7b2c0e34-95ad-4345-80bf-c10802ff0e12",
   "metadata": {},
   "source": [
    "#### Second variant "
   ]
  },
  {
   "cell_type": "code",
   "execution_count": null,
   "id": "991b89e4-b33b-47f2-9b09-d7885d7c97b0",
   "metadata": {},
   "outputs": [],
   "source": [
    "class NPImage(BaseModel):\n",
    "    image: Union[List, np.ndarray]\n",
    "        \n",
    "    @validator('image')\n",
    "    def image_validator(cls, v):\n",
    "        if isinstance(v, list):\n",
    "            v = np.array(v, dtype=np.uint8)\n",
    "        if not isinstance(v, np.ndarray):\n",
    "            raise TypeError('must be a numpy.ndarray')\n",
    "        if v.dtype != np.uint8:\n",
    "            raise TypeError('numpy.ndarray must have dtype equal numpy.uint8')\n",
    "        if len(v.shape) != 3:\n",
    "            raise ValueError('numpy.ndarray must have 3 dimension')\n",
    "        if v.shape[2] != 3:\n",
    "            raise ValueError('numpy.ndarray must have 3 channels')\n",
    "        return v\n",
    "        \n",
    "    class Config:\n",
    "        arbitrary_types_allowed = True\n",
    "        \n",
    "        json_encoders = {\n",
    "            np.ndarray: lambda x: x.tolist()\n",
    "        }"
   ]
  },
  {
   "cell_type": "code",
   "execution_count": null,
   "id": "3d08a8ac-e8a8-4873-a200-9210e0a9d52f",
   "metadata": {},
   "outputs": [],
   "source": [
    "# npimage = NPImage(image=np.ones(shape=(3, 3, 3), dtype=np.uint8))\n",
    "npimage = NPImage(image=np.ones(shape=(3, 3, 3), dtype=np.uint8))\n",
    "npimage.image.shape"
   ]
  },
  {
   "cell_type": "code",
   "execution_count": null,
   "id": "40fd7815-555a-4e7b-9cee-1aab50e3845e",
   "metadata": {
    "tags": []
   },
   "outputs": [],
   "source": [
    "npimage_raw = npimage.json()\n",
    "npimage_raw"
   ]
  },
  {
   "cell_type": "code",
   "execution_count": null,
   "id": "55390d79-8bb6-498e-bc0a-d3798fdbfc10",
   "metadata": {},
   "outputs": [],
   "source": [
    "NPImage.parse_raw(npimage_raw)"
   ]
  },
  {
   "cell_type": "markdown",
   "id": "2f1a1484-d84f-4821-8760-f7b920f739c1",
   "metadata": {},
   "source": [
    "### Numpy JSON encoder "
   ]
  },
  {
   "cell_type": "code",
   "execution_count": null,
   "id": "ed3f301a-9f15-4729-ab35-aa4da4d339c5",
   "metadata": {},
   "outputs": [],
   "source": [
    "class NumpyJsonEncoder(json.JSONEncoder):\n",
    "    def default(self, obj):\n",
    "        if isinstance(obj, np.ndarray):\n",
    "            return obj.tolist()\n",
    "        return json.JSONEncoder.default(self, obj)"
   ]
  },
  {
   "cell_type": "code",
   "execution_count": null,
   "id": "fe0fda05-92cf-4b51-b097-f1ce48134127",
   "metadata": {},
   "outputs": [],
   "source": [
    "image = np.zeros(shape=(3, 3, 3), dtype=np.uint8)"
   ]
  },
  {
   "cell_type": "code",
   "execution_count": null,
   "id": "95faa396-3957-4e5c-bdfd-726519a849e7",
   "metadata": {},
   "outputs": [],
   "source": [
    "json.dumps(image, cls=NumpyJsonEncoder)"
   ]
  },
  {
   "cell_type": "markdown",
   "id": "f0465ed9-085f-401b-9d45-8c861cd5c905",
   "metadata": {},
   "source": [
    "### Numpy request to FastAPI"
   ]
  },
  {
   "cell_type": "code",
   "execution_count": null,
   "id": "4fd5feb5-6936-4548-aef8-198eaec48e77",
   "metadata": {},
   "outputs": [],
   "source": [
    "import requests"
   ]
  },
  {
   "cell_type": "code",
   "execution_count": null,
   "id": "213221a6-5014-47cb-b0c9-aec8a3be11ef",
   "metadata": {},
   "outputs": [],
   "source": [
    "nparray = np.arange(3)"
   ]
  },
  {
   "cell_type": "code",
   "execution_count": null,
   "id": "1469ca5c-2d15-4988-8200-f8e941e2d474",
   "metadata": {},
   "outputs": [],
   "source": [
    "json.dumps({'image': nparray.tolist()})"
   ]
  },
  {
   "cell_type": "code",
   "execution_count": null,
   "id": "6c8a79ac-5d96-41d6-982f-85ead8a55ce8",
   "metadata": {},
   "outputs": [],
   "source": [
    "r = requests.post('http://127.0.0.1:5000/images/', data=json.dumps({'image': nparray.tolist()}))\n",
    "r.status_code"
   ]
  },
  {
   "cell_type": "code",
   "execution_count": null,
   "id": "bf3a4c2f-bc71-4b53-97e8-b719492628a9",
   "metadata": {},
   "outputs": [],
   "source": [
    "r.json()"
   ]
  },
  {
   "cell_type": "code",
   "execution_count": null,
   "id": "55064a80-f296-44f9-b99a-cf60c5d974fd",
   "metadata": {},
   "outputs": [],
   "source": [
    "r = requests.post('http://127.0.0.1:5000/images/', data=NPImage(image=np.ones(shape=(320, 320, 3), dtype=np.uint8)).json())\n",
    "r.status_code"
   ]
  },
  {
   "cell_type": "code",
   "execution_count": null,
   "id": "c2a28f29-69d0-437d-ad9f-de9086729aac",
   "metadata": {},
   "outputs": [],
   "source": [
    "r.json()"
   ]
  }
 ],
 "metadata": {
  "kernelspec": {
   "display_name": "examples_01_fast_api",
   "language": "python",
   "name": "examples_01_fast_api"
  },
  "language_info": {
   "codemirror_mode": {
    "name": "ipython",
    "version": 3
   },
   "file_extension": ".py",
   "mimetype": "text/x-python",
   "name": "python",
   "nbconvert_exporter": "python",
   "pygments_lexer": "ipython3",
   "version": "3.8.5"
  }
 },
 "nbformat": 4,
 "nbformat_minor": 5
}
